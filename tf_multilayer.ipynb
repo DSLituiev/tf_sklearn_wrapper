{
 "cells": [
  {
   "cell_type": "code",
   "execution_count": 1,
   "metadata": {
    "collapsed": true
   },
   "outputs": [],
   "source": [
    "import sys\n",
    "import pandas as pd\n",
    "import numpy  as np\n",
    "import tensorflow as tf\n",
    "import matplotlib.pyplot as plt\n",
    "from tqdm import tqdm\n",
    "%matplotlib inline"
   ]
  },
  {
   "cell_type": "code",
   "execution_count": 2,
   "metadata": {
    "collapsed": true
   },
   "outputs": [],
   "source": [
    "def weight_variable(shape):\n",
    "    initial = tf.truncated_normal(shape, stddev=0.1)\n",
    "    return tf.Variable(initial)\n",
    "\n",
    "def bias_variable(shape):\n",
    "    initial = tf.constant(0.1, shape=shape)\n",
    "    return tf.Variable(initial)"
   ]
  },
  {
   "cell_type": "code",
   "execution_count": 3,
   "metadata": {
    "collapsed": true
   },
   "outputs": [],
   "source": [
    "def _variable_on_cpu(name, shape, initializer):\n",
    "    \"\"\"Helper to create a Variable stored on CPU memory.\n",
    "    Args:\n",
    "    name: name of the variable\n",
    "    shape: list of ints\n",
    "    initializer: initializer for Variable\n",
    "    Returns:\n",
    "    Variable Tensor\n",
    "    \"\"\"\n",
    "    with tf.device('/cpu:0'):\n",
    "        var = tf.get_variable(name, shape, initializer=initializer)\n",
    "    return var\n",
    "def _variable_with_weight_decay(name, shape, stddev, wd):\n",
    "    \"\"\"Helper to create an initialized Variable with weight decay.\n",
    "    Note that the Variable is initialized with a truncated normal distribution.\n",
    "    A weight decay is added only if one is specified.\n",
    "    Args:\n",
    "    name: name of the variable\n",
    "    shape: list of ints\n",
    "    stddev: standard deviation of a truncated Gaussian\n",
    "    wd: add L2Loss weight decay multiplied by this float. If None, weight\n",
    "        decay is not added for this Variable.\n",
    "    Returns:\n",
    "    Variable Tensor\n",
    "    \"\"\"\n",
    "    var = _variable_on_cpu(name, shape,\n",
    "                         tf.truncated_normal_initializer(stddev=stddev))\n",
    "    if wd:\n",
    "        weight_decay = tf.mul(tf.nn.l2_loss(var), wd, name='weight_loss')\n",
    "        tf.add_to_collection('losses', weight_decay)\n",
    "    return var"
   ]
  },
  {
   "cell_type": "code",
   "execution_count": 4,
   "metadata": {
    "collapsed": false
   },
   "outputs": [],
   "source": [
    "from tflearn import tflearn, vardict\n",
    "\n",
    "class tflasso(tflearn):\n",
    "    def _create_network(self):\n",
    "        self.vars = vardict()\n",
    "        self.vars.xx = tf.placeholder(\"float\", shape=[None, self.xlen])\n",
    "        self.vars.yy = tf.placeholder(\"float\", shape=[None, 1])\n",
    "\n",
    "        #def fully_connected():\n",
    "            \n",
    "        # Create Model\n",
    "        x_images = tf.reshape(self.vars.xx, [-1, 1, self.xlen//2,2])\n",
    "        # print(\"x_images\", x_images.get_shape())\n",
    "        \n",
    "        with tf.variable_scope('conv1') as scope:\n",
    "            self.parameters.c1_kernel = _variable_with_weight_decay('weights', shape=[1, 5, 2, 64],\n",
    "                                                 stddev=1e-4, wd=0.0)\n",
    "            conv = tf.nn.conv2d(x_images, self.parameters.c1_kernel, [1, 1, 1, 1], padding='SAME')\n",
    "            biases = _variable_on_cpu('biases', [64], tf.constant_initializer(0.0))\n",
    "            bias = tf.nn.bias_add(conv, biases)\n",
    "            conv1 = tf.nn.relu(bias, name=scope.name)\n",
    "            #_activation_summary(conv1)\n",
    "        \n",
    "        # pool1\n",
    "        pool1 = tf.nn.max_pool(conv1, ksize=[1, 1, 3, 1], strides=[1, 1, 2, 1],\n",
    "                                 padding='SAME', name='pool1')\n",
    "        # norm1\n",
    "        norm1 = tf.nn.lrn(pool1, 4, bias=1.0, alpha= 0.001 / 9.0, beta=0.75,\n",
    "                            name='norm1')\n",
    "        # conv2\n",
    "        with tf.variable_scope('conv2') as scope:\n",
    "            self.parameters.c2_kernel = _variable_with_weight_decay('weights', shape=[1, 5, 64, 64],\n",
    "                                                 stddev=1e-4, wd=0.0)\n",
    "            conv = tf.nn.conv2d(norm1, self.parameters.c2_kernel, [1, 1, 1, 1], padding='SAME')\n",
    "            biases = _variable_on_cpu('biases', [64], tf.constant_initializer(0.1))\n",
    "            bias = tf.nn.bias_add(conv, biases)\n",
    "            conv2 = tf.nn.relu(bias, name=scope.name)\n",
    "            #_activation_summary(conv2)\n",
    "        # norm2\n",
    "        norm2 = tf.nn.lrn(conv2, 4, bias=1.0, alpha=0.001 / 9.0, beta=0.75,\n",
    "                            name='norm2')\n",
    "        # pool2\n",
    "        pool2 = tf.nn.max_pool(norm2, ksize=[1, 1, 3, 1],\n",
    "                                strides=[1, 1, 2, 1], padding='SAME', name='pool2')\n",
    "\n",
    "        # local3\n",
    "        with tf.variable_scope('local3') as scope:\n",
    "            # Move everything into depth so we can perform a single matrix multiply.\n",
    "            dim = 1\n",
    "            for d in pool2.get_shape()[1:].as_list():\n",
    "                dim *= d\n",
    "            reshape = tf.reshape(pool2, [-1, dim])\n",
    "            self.parameters.l1_weights = _variable_with_weight_decay('weights', shape=[dim, self.xlen],\n",
    "                                                  stddev=0.04, wd=0.004)\n",
    "            self.parameters.l1_biases = _variable_on_cpu('biases', [self.xlen], tf.constant_initializer(0.1))\n",
    "            local3 = tf.nn.relu_layer(reshape, self.parameters.l1_weights, \n",
    "                                      self.parameters.l1_biases, name=scope.name)\n",
    "            #_activation_summary(local3)\n",
    "            \n",
    "        if self.train:\n",
    "            self.vars.keep_prob = tf.placeholder(\"float\")\n",
    "            local3 = tf.nn.dropout(local3, self.vars.keep_prob)\n",
    "        \n",
    "        # local4\n",
    "        with tf.variable_scope('local4') as scope:\n",
    "            self.parameters.l2_weights = _variable_with_weight_decay('weights', shape=[self.xlen, 1],\n",
    "                                                  stddev=0.04, wd=0.004)\n",
    "            self.parameters.l2_biases = _variable_on_cpu('biases', [1], tf.constant_initializer(0.1))\n",
    "            \n",
    "            self.vars.y_predicted = tf.nn.relu_layer(local3, self.parameters.l2_weights,\n",
    "                                                     self.parameters.l2_biases, name=scope.name)\n",
    "            #_activation_summary(local4)\n",
    "\n",
    "#         self.parameters[\"W1\"] = tf.Variable(tf.truncated_normal([1, self.xlen], stddev=0.1), name=\"weight\")\n",
    "#         self.parameters[\"b1\"] = tf.Variable(tf.constant(0.1, shape=[1, 1]), name=\"bias\")\n",
    "        \n",
    "        #self.vars.y_predicted = tf.matmul( self.vars.xx, tf.transpose(self.W1)) + self.b1\n",
    "        self.saver = tf.train.Saver()\n",
    "        return"
   ]
  },
  {
   "cell_type": "code",
   "execution_count": 5,
   "metadata": {
    "collapsed": false
   },
   "outputs": [
    {
     "name": "stdout",
     "output_type": "stream",
     "text": [
      "[/X (Group) ''\n",
      "  children := ['axis0_label1' (Array), 'axis0_level0' (VLArray), 'block0_items_level0' (VLArray), 'axis1_level0' (Array), 'axis0_level1' (Array), 'axis1_level1' (Array), 'block0_values' (Array), 'block0_items_level1' (Array), 'block0_items_label1' (Array), 'block0_items_label0' (Array), 'axis1_label0' (Array), 'axis0_label0' (Array), 'axis1_label1' (Array)], /y (Group) ''\n",
      "  children := ['index_label1' (Array), 'index_level1' (Array), 'index_label0' (Array), 'values' (Array), 'index_level0' (Array)]]\n"
     ]
    }
   ],
   "source": [
    "datafile = \"../../data/atac_tss_800_1.h5\"\n",
    "\n",
    "with pd.HDFStore(datafile) as store:\n",
    "    print(store.groups())\n",
    "    y_ = store[\"y\"]\n",
    "    X_ = store[\"X\"]"
   ]
  },
  {
   "cell_type": "code",
   "execution_count": 6,
   "metadata": {
    "collapsed": false
   },
   "outputs": [
    {
     "name": "stdout",
     "output_type": "stream",
     "text": [
      "(41881, 322)\n",
      "(4000, 322)\n"
     ]
    }
   ],
   "source": [
    "\"\"\" transform data \"\"\"\n",
    "sys.path.append(\"..\")\n",
    "from transform_tss import safelog, sumstrands, groupcolumns\n",
    "\n",
    "feature_step = 10\n",
    "select = None# list(feature_step * np.arange(-2,3,1))\n",
    "\n",
    "Xgr = groupcolumns(X_, step = feature_step, select = select)\n",
    "print(Xgr.shape)\n",
    "# print(Xgr.head(3))\n",
    "X, y = safelog(Xgr, y_, pseudocount=1/32)\n",
    "\n",
    "#from sklearn.preprocessing import PolynomialFeatures\n",
    "#pf3 = PolynomialFeatures(degree=3)\n",
    "#X3 = pf3.fit_transform(X)\n",
    "trainsamples = 4000\n",
    "train_X, train_Y = X[:trainsamples], y[:trainsamples].as_matrix()\n",
    "print(train_X.shape)"
   ]
  },
  {
   "cell_type": "code",
   "execution_count": 7,
   "metadata": {
    "collapsed": true
   },
   "outputs": [],
   "source": [
    "def get_labels(pf):\n",
    "    return list(pf._combinations(10, degree=pf.degree,\n",
    "                          interaction_only=pf.interaction_only,\n",
    "                          include_bias = pf.include_bias))"
   ]
  },
  {
   "cell_type": "code",
   "execution_count": 8,
   "metadata": {
    "collapsed": false
   },
   "outputs": [
    {
     "name": "stdout",
     "output_type": "stream",
     "text": [
      "\u001b[0m\u001b[00;38;5;244m\u001b[m\u001b[00;38;5;64mcheckpoint\u001b[0m*      \u001b[00;38;5;244m\u001b[m\u001b[00;38;5;64mmodel.ckpt-301\u001b[0m*  \u001b[00;38;5;244m\u001b[m\u001b[00;38;5;64mmodel.ckpt-451\u001b[0m*\r\n",
      "\u001b[00;38;5;244m\u001b[m\u001b[00;38;5;64mmodel.ckpt-1\u001b[0m*    \u001b[00;38;5;244m\u001b[m\u001b[00;38;5;64mmodel.ckpt-351\u001b[0m*  \u001b[00;38;5;244m\u001b[m\u001b[00;38;5;64mmodel.ckpt-501\u001b[0m*\r\n",
      "\u001b[00;38;5;244m\u001b[m\u001b[00;38;5;64mmodel.ckpt-101\u001b[0m*  \u001b[00;38;5;244m\u001b[m\u001b[00;38;5;64mmodel.ckpt-401\u001b[0m*  \u001b[00;38;5;244m\u001b[m\u001b[00;38;5;64mmodel.ckpt-51\u001b[0m*\r\n"
     ]
    }
   ],
   "source": [
    "%ls ./cnn_ckpt/"
   ]
  },
  {
   "cell_type": "code",
   "execution_count": null,
   "metadata": {
    "collapsed": false,
    "scrolled": true
   },
   "outputs": [
    {
     "name": "stderr",
     "output_type": "stream",
     "text": [
      "loading a session\n",
      "  1%|          | 39/5000 [06:49<14:27:38,  0.10it/s]"
     ]
    }
   ],
   "source": [
    "tfl = tflasso(ALPHA = 2e-1, display_step = 50, BATCH_SIZE = 50,\n",
    "             learning_rate = 5e-3, checkpoint_dir = \"./cnn_ckpt/\")\n",
    "tfl.fit( train_X, train_Y , load = True)"
   ]
  },
  {
   "cell_type": "code",
   "execution_count": 10,
   "metadata": {
    "collapsed": false
   },
   "outputs": [
    {
     "data": {
      "image/png": "[encoded data removed]",
      "text/plain": [
       "<matplotlib.figure.Figure at 0x7f8d3eebce48>"
      ]
     },
     "metadata": {},
     "output_type": "display_data"
    }
   ],
   "source": [
    "ts, r2s = list(zip( *tfl.r2_progress ))\n",
    "plt.plot(ts, r2s)\n",
    "plt.xlabel(\"epoch\")\n",
    "plt.ylabel(\"R^2\")\n",
    "plt.ylim([0, 0.1* np.ceil(10*max(r2s))])\n",
    "pass"
   ]
  },
  {
   "cell_type": "code",
   "execution_count": 11,
   "metadata": {
    "collapsed": true
   },
   "outputs": [],
   "source": [
    "test_X, test_Y = X[trainsamples:(2*trainsamples+1)], y[trainsamples:(2*trainsamples+1)].as_matrix()"
   ]
  },
  {
   "cell_type": "code",
   "execution_count": 12,
   "metadata": {
    "collapsed": false,
    "scrolled": true
   },
   "outputs": [
    {
     "name": "stdout",
     "output_type": "stream",
     "text": [
      "23.4243\n"
     ]
    },
    {
     "name": "stderr",
     "output_type": "stream",
     "text": [
      "loading a session\n"
     ]
    },
    {
     "data": {
      "text/plain": [
       "0.28037887863227906"
      ]
     },
     "execution_count": 12,
     "metadata": {},
     "output_type": "execute_result"
    }
   ],
   "source": [
    "tfl = tflasso(checkpoint_dir = \"./cnn_ckpt/\")\n",
    "tfl.transform( test_X, test_Y, load = True)\n",
    "\n",
    "print( tfl.loss )\n",
    "r2 = 1- tfl.loss/test_Y.var()\n",
    "r2"
   ]
  },
  {
   "cell_type": "code",
   "execution_count": 42,
   "metadata": {
    "collapsed": false
   },
   "outputs": [
    {
     "name": "stdout",
     "output_type": "stream",
     "text": [
      "101\n"
     ]
    },
    {
     "name": "stderr",
     "output_type": "stream",
     "text": [
      "loading a session\n"
     ]
    }
   ],
   "source": [
    "g = tf.Graph()\n",
    "with g.as_default():\n",
    "    tfl._create_network()\n",
    "    sess_config = tf.ConfigProto(inter_op_parallelism_threads=1,\n",
    "                               intra_op_parallelism_threads= 1)\n",
    "    with tf.Session(config = sess_config) as sess:\n",
    "        ckpt = tfl._load_(sess)\n",
    "        \n",
    "        print( int(ckpt.all_model_checkpoint_paths[-1].split(\"-\")[-1]) )"
   ]
  },
  {
   "cell_type": "code",
   "execution_count": null,
   "metadata": {
    "collapsed": true
   },
   "outputs": [],
   "source": [
    "ckpt.all_model_checkpoint_paths"
   ]
  },
  {
   "cell_type": "code",
   "execution_count": null,
   "metadata": {
    "collapsed": false
   },
   "outputs": [],
   "source": [
    "pf3.powers_()"
   ]
  },
  {
   "cell_type": "code",
   "execution_count": null,
   "metadata": {
    "collapsed": false
   },
   "outputs": [],
   "source": [
    "W1 = tfl.get_params()[\"W1\"][0]\n",
    "ncoef = len(W1)\n",
    "xlabels = np.array( get_labels(pf3) )\n",
    "\n",
    "forder = np.array([len(x) for x in xlabels])\n",
    "\n",
    "\n",
    "fig, axs = plt.subplots(3,figsize = (14, 5))\n",
    "fig.subplots_adjust(hspace=.5)\n",
    "for nn in range(3):\n",
    "    valid =( forder == (nn+1))\n",
    "    print(sum(valid))\n",
    "    x_ =  np.arange(ncoef)[valid]\n",
    "    y_ = np.log10( abs(W1[valid]) )\n",
    "    axs[nn].scatter(x_, y_ )\n",
    "    axs[nn].scatter( x_[y_>-3], y_[y_>-3], 25, \"r\" )\n",
    "    #axs[nn].stem( x_[y_>-3], y_[y_>-3], markerfmt = \"ro\" )\n",
    "    if nn < 2:\n",
    "        axs[nn].set_xticks(x_ )\n",
    "        axs[nn].set_xticklabels([repr(x) for x in xlabels[valid]], rotation = 90)\n",
    "    else:\n",
    "        axs[nn].set_xticks(x_[::4] )\n",
    "        axs[nn].set_xticklabels([repr(x) for x in xlabels[valid][::4]], rotation = 90)\n",
    "pass"
   ]
  },
  {
   "cell_type": "code",
   "execution_count": null,
   "metadata": {
    "collapsed": true
   },
   "outputs": [],
   "source": [
    "plt.stem?"
   ]
  },
  {
   "cell_type": "code",
   "execution_count": null,
   "metadata": {
    "collapsed": false
   },
   "outputs": [],
   "source": [
    "W1 = tfl.get_params()[\"W1\"][0]\n",
    "print(len(W1))\n",
    "plt.stem( np.arange(len(W1)), np.log10( abs(W1)) )\n",
    "plt.stem( np.arange(len(W1))[np.log10(W1)>-3], np.log10(W1)[np.log10(W1)>-3], markerfmt = \"ro\" )"
   ]
  },
  {
   "cell_type": "code",
   "execution_count": null,
   "metadata": {
    "collapsed": false
   },
   "outputs": [],
   "source": [
    "W1"
   ]
  },
  {
   "cell_type": "code",
   "execution_count": null,
   "metadata": {
    "collapsed": false
   },
   "outputs": [],
   "source": [
    "10 + 10*11/2 + 10*11*12/6"
   ]
  },
  {
   "cell_type": "code",
   "execution_count": null,
   "metadata": {
    "collapsed": false
   },
   "outputs": [],
   "source": []
  },
  {
   "cell_type": "code",
   "execution_count": null,
   "metadata": {
    "collapsed": false
   },
   "outputs": [],
   "source": [
    "tfl.fit( train_X, train_Y , load = True)"
   ]
  },
  {
   "cell_type": "code",
   "execution_count": null,
   "metadata": {
    "collapsed": false
   },
   "outputs": [],
   "source": [
    "tfl.fit( train_X, train_Y , load = True)"
   ]
  },
  {
   "cell_type": "code",
   "execution_count": null,
   "metadata": {
    "collapsed": false
   },
   "outputs": [],
   "source": [
    "checkpoint_dir = \"\"\n",
    "\n",
    "saver = tf.train.Saver()\n",
    "ckpt = tf.train.get_checkpoint_state(checkpoint_dir)\n",
    "NUM_CORES = 3  # Choose how many cores to use.\n",
    "sess_config = tf.ConfigProto(inter_op_parallelism_threads=NUM_CORES,\n",
    "                                                   intra_op_parallelism_threads=NUM_CORES)\n",
    "with tf.Session(config= sess_config) as sess:\n",
    "    if ckpt and ckpt.model_checkpoint_path:\n",
    "        ckpt.model_checkpoint_path  = './model.ckpt-1300'\n",
    "        saver.restore(sess, ckpt.model_checkpoint_path)\n",
    "    else:\n",
    "        raise Exception(\"...no checkpoint found...\")"
   ]
  }
 ],
 "metadata": {
  "kernelspec": {
   "display_name": "Python 3",
   "language": "python",
   "name": "python3"
  },
  "language_info": {
   "codemirror_mode": {
    "name": "ipython",
    "version": 3
   },
   "file_extension": ".py",
   "mimetype": "text/x-python",
   "name": "python",
   "nbconvert_exporter": "python",
   "pygments_lexer": "ipython3",
   "version": "3.4.3"
  }
 },
 "nbformat": 4,
 "nbformat_minor": 0
}
