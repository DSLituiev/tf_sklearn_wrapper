{
 "cells": [
  {
   "cell_type": "code",
   "execution_count": 1,
   "metadata": {
    "collapsed": true
   },
   "outputs": [],
   "source": [
    "import sys\n",
    "import pandas as pd\n",
    "import numpy  as np\n",
    "import tensorflow as tf\n",
    "import matplotlib.pyplot as plt\n",
    "%matplotlib inline\n",
    "#######################\n",
    "def batchgen(batchsize):\n",
    "\n",
    "    def getbatch(x,y):\n",
    "        assert (len(x) == len(y)), \"dimension mismatch\"\n",
    "        for i in range(0, len(y), batchsize):\n",
    "            yield x[i:i+batchsize], y[i:i+batchsize],\n",
    "    return getbatch"
   ]
  },
  {
   "cell_type": "code",
   "execution_count": 2,
   "metadata": {
    "collapsed": false
   },
   "outputs": [],
   "source": [
    "%load_ext autoreload\n",
    "%autoreload 2"
   ]
  },
  {
   "cell_type": "code",
   "execution_count": 4,
   "metadata": {
    "collapsed": true
   },
   "outputs": [],
   "source": [
    "def summary_dict(summary_str, summary_proto = None):\n",
    "    \"convert summary string to a dictionary\"\n",
    "    if summary_proto is None:\n",
    "        summary_proto = tf.Summary()\n",
    "    summary_proto.ParseFromString(summary_str)\n",
    "    summaries = {}\n",
    "    for val in summary_proto.value:\n",
    "        # Assuming all summaries are scalars.\n",
    "        summaries[val.tag] = val.simple_value\n",
    "    return summaries"
   ]
  },
  {
   "cell_type": "code",
   "execution_count": 11,
   "metadata": {
    "collapsed": false
   },
   "outputs": [],
   "source": [
    "from tflearn import tflearn, vardict\n",
    "\n",
    "class tflasso(tflearn):\n",
    "    def _create_network(self):\n",
    "        self.vars = vardict()\n",
    "        self.vars.x = tf.placeholder(\"float\", shape=[None, self.xlen])\n",
    "        self.vars.y = tf.placeholder(\"float\", shape=[None, 1])\n",
    "\n",
    "        #def fully_connected():\n",
    "            \n",
    "        # Create Model\n",
    "        self.parameters[\"W1\"] = tf.Variable(tf.truncated_normal([1, self.xlen], stddev=0.1), name=\"weight\")\n",
    "        self.parameters[\"b1\"] = tf.Variable(tf.constant(0.1, shape=[1, 1]), name=\"bias\")\n",
    "        \n",
    "        \n",
    "        self.vars.y_predicted = tf.matmul( self.vars.x, tf.transpose(self.W1)) + self.b1\n",
    "        self.saver = tf.train.Saver()\n",
    "        \n",
    "    def _create_loss(self):\n",
    "        # Minimize the squared errors\n",
    "        l2_loss = tf.reduce_mean(tf.pow( self.vars.y_predicted - self.vars.y, 2))\n",
    "        l2_sy = tf.scalar_summary( \"L2_loss\", l2_loss )\n",
    "        \"Lasso penalty\"\n",
    "        l1_penalty = tf.reduce_sum((tf.abs(tf.concat(1, [self.W1,self.b1], name = \"l1\" ) )) )\n",
    "        l1p_sy =  tf.scalar_summary( \"L1_penalty\" , l1_penalty )\n",
    "        \"total\"\n",
    "        tot_loss = l2_loss + self.ALPHA * l1_penalty\n",
    "        tot_loss_sy =  tf.scalar_summary( \"loss\" , tot_loss )\n",
    "        \"R2\"\n",
    "        _, y_var = tf.nn.moments(self.vars.y, [0,1])\n",
    "        rsq =  1 - l2_loss / y_var\n",
    "        rsq_sy = tf.scalar_summary( \"R2\", rsq)\n",
    "        return tot_loss"
   ]
  },
  {
   "cell_type": "code",
   "execution_count": 6,
   "metadata": {
    "collapsed": false
   },
   "outputs": [
    {
     "name": "stdout",
     "output_type": "stream",
     "text": [
      "[/X (Group) ''\n",
      "  children := ['axis0_level0' (VLArray), 'block0_items_level0' (VLArray), 'axis1_level1' (Array), 'axis1_label0' (Array), 'axis0_level1' (Array), 'axis1_label1' (Array), 'axis0_label0' (Array), 'block0_items_level1' (Array), 'block0_values' (Array), 'axis0_label1' (Array), 'block0_items_label0' (Array), 'axis1_level0' (Array), 'block0_items_label1' (Array)], /y (Group) ''\n",
      "  children := ['values' (Array), 'index_level1' (Array), 'index_level0' (Array), 'index_label0' (Array), 'index_label1' (Array)]]\n"
     ]
    }
   ],
   "source": [
    "datafile = \"../../data/atac_tss_800_1.h5\"\n",
    "\n",
    "with pd.HDFStore(datafile) as store:\n",
    "    print(store.groups())\n",
    "    y_ = store[\"y\"]\n",
    "    X_ = store[\"X\"]"
   ]
  },
  {
   "cell_type": "code",
   "execution_count": 7,
   "metadata": {
    "collapsed": false
   },
   "outputs": [],
   "source": [
    "\"\"\" transform data \"\"\"\n",
    "sys.path.append(\"..\")\n",
    "from transform_tss import safelog, sumstrands, groupcolumns\n",
    "\n",
    "feature_step = 100\n",
    "select = list(feature_step * np.arange(-2,3,1))\n",
    "\n",
    "Xgr = groupcolumns(X_, step = feature_step, select = select)\n",
    "\n",
    "X, y = safelog(Xgr, y_)\n",
    "\n",
    "from sklearn.preprocessing import PolynomialFeatures\n",
    "pf3 = PolynomialFeatures(degree=3)\n",
    "X3 = pf3.fit_transform(X)\n",
    "trainsamples = 4000\n",
    "train_X, train_Y = X3[:trainsamples], y[:trainsamples].as_matrix()"
   ]
  },
  {
   "cell_type": "code",
   "execution_count": 8,
   "metadata": {
    "collapsed": true
   },
   "outputs": [],
   "source": [
    "def get_labels(pf):\n",
    "    return list(pf._combinations(10, degree=pf.degree,\n",
    "                          interaction_only=pf.interaction_only,\n",
    "                          include_bias = pf.include_bias))"
   ]
  },
  {
   "cell_type": "code",
   "execution_count": 12,
   "metadata": {
    "collapsed": false,
    "scrolled": false
   },
   "outputs": [
    {
     "name": "stderr",
     "output_type": "stream",
     "text": [
      "variance(y) =  17.4581682381\n",
      "loading a session\n",
      "training epochs: 10700 ... 15700, saving each 100' epoch\n",
      "Epoch: 10700\t\n",
      "\ttrain\tL1_penalty: 15.0746\tloss: 13.5737\tL2_loss: 10.5588\tR2: 0.3952\n",
      "Epoch: 10800\t\n",
      "\ttrain\tL1_penalty: 14.9457\tloss: 13.5463\tL2_loss: 10.5572\tR2: 0.3953\n",
      "Epoch: 10900\t\n",
      "\ttrain\tL1_penalty: 14.8178\tloss: 13.5192\tL2_loss: 10.5557\tR2: 0.3954\n",
      "Epoch: 11000\t\n",
      "\ttrain\tL1_penalty: 14.6920\tloss: 13.4926\tL2_loss: 10.5542\tR2: 0.3955\n",
      "Epoch: 11100\t\n",
      "\ttrain\tL1_penalty: 14.5718\tloss: 13.4672\tL2_loss: 10.5529\tR2: 0.3955\n",
      "Epoch: 11200\t\n",
      "\ttrain\tL1_penalty: 14.4537\tloss: 13.4424\tL2_loss: 10.5517\tR2: 0.3956\n",
      "Epoch: 11300\t\n",
      "\ttrain\tL1_penalty: 14.3374\tloss: 13.4182\tL2_loss: 10.5507\tR2: 0.3957\n",
      "Epoch: 11400\t\n",
      "\ttrain\tL1_penalty: 14.2217\tloss: 13.3940\tL2_loss: 10.5497\tR2: 0.3957\n",
      "Epoch: 11500\t\n",
      "\ttrain\tL1_penalty: 14.1068\tloss: 13.3701\tL2_loss: 10.5488\tR2: 0.3958\n",
      "Epoch: 11600\t\n",
      "\ttrain\tL1_penalty: 13.9924\tloss: 13.3464\tL2_loss: 10.5479\tR2: 0.3958\n",
      "Epoch: 11700\t\n",
      "\ttrain\tL1_penalty: 13.8785\tloss: 13.3229\tL2_loss: 10.5472\tR2: 0.3959\n",
      "Epoch: 11800\t\n",
      "\ttrain\tL1_penalty: 13.7687\tloss: 13.3003\tL2_loss: 10.5466\tR2: 0.3959\n",
      "Epoch: 11900\t\n",
      "\ttrain\tL1_penalty: 13.6595\tloss: 13.2779\tL2_loss: 10.5460\tR2: 0.3959\n",
      "Epoch: 12000\t\n",
      "\ttrain\tL1_penalty: 13.5552\tloss: 13.2562\tL2_loss: 10.5452\tR2: 0.3960\n",
      "Epoch: 12100\t\n",
      "\ttrain\tL1_penalty: 13.4524\tloss: 13.2349\tL2_loss: 10.5444\tR2: 0.3960\n",
      "Epoch: 12200\t\n",
      "\ttrain\tL1_penalty: 13.3500\tloss: 13.2138\tL2_loss: 10.5438\tR2: 0.3961\n",
      "Epoch: 12300\t\n",
      "\ttrain\tL1_penalty: 13.2482\tloss: 13.1927\tL2_loss: 10.5431\tR2: 0.3961\n",
      "Epoch: 12400\t\n",
      "\ttrain\tL1_penalty: 13.1469\tloss: 13.1718\tL2_loss: 10.5424\tR2: 0.3961\n",
      "Epoch: 12500\t\n",
      "\ttrain\tL1_penalty: 13.0459\tloss: 13.1510\tL2_loss: 10.5418\tR2: 0.3962\n",
      "Epoch: 12600\t\n",
      "\ttrain\tL1_penalty: 12.9456\tloss: 13.1303\tL2_loss: 10.5412\tR2: 0.3962\n",
      "Epoch: 12700\t\n",
      "\ttrain\tL1_penalty: 12.8464\tloss: 13.1100\tL2_loss: 10.5407\tR2: 0.3962\n",
      "Epoch: 12800\t\n",
      "\ttrain\tL1_penalty: 12.7488\tloss: 13.0899\tL2_loss: 10.5402\tR2: 0.3963\n",
      "Epoch: 12900\t\n",
      "\ttrain\tL1_penalty: 12.6520\tloss: 13.0700\tL2_loss: 10.5396\tR2: 0.3963\n",
      "Epoch: 13000\t\n",
      "\ttrain\tL1_penalty: 12.5559\tloss: 13.0504\tL2_loss: 10.5392\tR2: 0.3963\n",
      "Epoch: 13100\t\n",
      "\ttrain\tL1_penalty: 12.4603\tloss: 13.0309\tL2_loss: 10.5389\tR2: 0.3963\n",
      "Epoch: 13200\t\n",
      "\ttrain\tL1_penalty: 12.3650\tloss: 13.0116\tL2_loss: 10.5386\tR2: 0.3964\n",
      "Epoch: 13300\t\n",
      "\ttrain\tL1_penalty: 12.2703\tloss: 12.9924\tL2_loss: 10.5383\tR2: 0.3964\n",
      "Epoch: 13400\t\n",
      "\ttrain\tL1_penalty: 12.1769\tloss: 12.9735\tL2_loss: 10.5381\tR2: 0.3964\n",
      "Epoch: 13500\t\n",
      "\ttrain\tL1_penalty: 12.0839\tloss: 12.9547\tL2_loss: 10.5379\tR2: 0.3964\n",
      "Epoch: 13600\t\n",
      "\ttrain\tL1_penalty: 11.9915\tloss: 12.9360\tL2_loss: 10.5377\tR2: 0.3964\n",
      "Epoch: 13700\t\n",
      "\ttrain\tL1_penalty: 11.9002\tloss: 12.9176\tL2_loss: 10.5376\tR2: 0.3964\n",
      "Epoch: 13800\t\n",
      "\ttrain\tL1_penalty: 11.8098\tloss: 12.8995\tL2_loss: 10.5375\tR2: 0.3964\n",
      "Epoch: 13900\t\n",
      "\ttrain\tL1_penalty: 11.7373\tloss: 12.8834\tL2_loss: 10.5360\tR2: 0.3965\n",
      "Epoch: 14000\t\n",
      "\ttrain\tL1_penalty: 11.6665\tloss: 12.8676\tL2_loss: 10.5343\tR2: 0.3966\n",
      "Epoch: 14100\t\n",
      "\ttrain\tL1_penalty: 11.5974\tloss: 12.8522\tL2_loss: 10.5327\tR2: 0.3967\n",
      "Epoch: 14200\t\n",
      "\ttrain\tL1_penalty: 11.5316\tloss: 12.8375\tL2_loss: 10.5312\tR2: 0.3968\n",
      "Epoch: 14300\t\n",
      "\ttrain\tL1_penalty: 11.4668\tloss: 12.8231\tL2_loss: 10.5298\tR2: 0.3969\n",
      "Epoch: 14400\t\n",
      "\ttrain\tL1_penalty: 11.4025\tloss: 12.8088\tL2_loss: 10.5283\tR2: 0.3969\n",
      "Epoch: 14500\t\n",
      "\ttrain\tL1_penalty: 11.3388\tloss: 12.7947\tL2_loss: 10.5270\tR2: 0.3970\n",
      "Epoch: 14600\t\n",
      "\ttrain\tL1_penalty: 11.2778\tloss: 12.7811\tL2_loss: 10.5255\tR2: 0.3971\n",
      "Epoch: 14700\t\n",
      "\ttrain\tL1_penalty: 11.2187\tloss: 12.7678\tL2_loss: 10.5241\tR2: 0.3972\n",
      "Epoch: 14800\t\n",
      "\ttrain\tL1_penalty: 11.1597\tloss: 12.7546\tL2_loss: 10.5227\tR2: 0.3973\n",
      "Epoch: 14900\t\n",
      "\ttrain\tL1_penalty: 11.1014\tloss: 12.7416\tL2_loss: 10.5213\tR2: 0.3973\n",
      "Epoch: 15000\t\n",
      "\ttrain\tL1_penalty: 11.0444\tloss: 12.7289\tL2_loss: 10.5200\tR2: 0.3974\n",
      "Epoch: 15100\t\n",
      "\ttrain\tL1_penalty: 10.9879\tloss: 12.7163\tL2_loss: 10.5187\tR2: 0.3975\n",
      "Epoch: 15200\t\n",
      "\ttrain\tL1_penalty: 10.9322\tloss: 12.7041\tL2_loss: 10.5177\tR2: 0.3976\n",
      "Epoch: 15300\t\n",
      "\ttrain\tL1_penalty: 10.8781\tloss: 12.6920\tL2_loss: 10.5164\tR2: 0.3976\n",
      "Epoch: 15400\t\n",
      "\ttrain\tL1_penalty: 10.8257\tloss: 12.6803\tL2_loss: 10.5152\tR2: 0.3977\n",
      "Epoch: 15500\t\n",
      "\ttrain\tL1_penalty: 10.7736\tloss: 12.6686\tL2_loss: 10.5139\tR2: 0.3978\n",
      "Epoch: 15600\t\n",
      "\ttrain\tL1_penalty: 10.7218\tloss: 12.6571\tL2_loss: 10.5128\tR2: 0.3978\n",
      "Optimization Finished!\n",
      "_ipython_display_ not found\n",
      "_repr_svg_ not found\n",
      "_repr_jpeg_ not found\n",
      "_repr_javascript_ not found\n",
      "_repr_html_ not found\n",
      "_repr_latex_ not found\n",
      "_repr_json_ not found\n",
      "_repr_png_ not found\n",
      "_repr_pdf_ not found\n",
      "_repr_markdown_ not found\n"
     ]
    },
    {
     "data": {
      "text/plain": [
       "<__main__.tflasso at 0x7f86b3e6aa20>"
      ]
     },
     "execution_count": 12,
     "metadata": {},
     "output_type": "execute_result"
    }
   ],
   "source": [
    "tfl = tflasso(ALPHA = 2e-1, checkpoint_dir = \"./cubiclasso/\", dropout = None)\n",
    "tfl.fit( train_X, train_Y , load = True)"
   ]
  },
  {
   "cell_type": "code",
   "execution_count": null,
   "metadata": {
    "collapsed": false
   },
   "outputs": [],
   "source": [
    "load = 0\n",
    "g = tf.Graph()\n",
    "with g.as_default():\n",
    "    tfl._create_network()\n",
    "\n",
    "    tot_loss = tfl._create_loss()\n",
    "    summary_op = tf.merge_all_summaries()\n",
    "    sess_config = tf.ConfigProto(inter_op_parallelism_threads=tfl.NUM_CORES,\n",
    "                               intra_op_parallelism_threads= tfl.NUM_CORES)\n",
    "    # Initializing the variables\n",
    "    init = tf.initialize_all_variables()\n",
    "\n",
    "    with tf.Session(config = sess_config) as sess:\n",
    "        if load:\n",
    "            tfl._load_(sess)\n",
    "        else:\n",
    "            sess.run(init)\n",
    "\n",
    "        feed_dict={ tfl.vars.x: train_X, }\n",
    "        if tfl.dropout:\n",
    "            feed_dict[ tfl.vars.keep_prob] = 0.5\n",
    "\n",
    "        y_predicted = sess.run( tfl.vars.y_predicted,\n",
    "                        feed_dict = feed_dict )\n",
    "        if y is not None:\n",
    "            feed_dict[ tfl.vars.y ] = np.reshape(y, [-1, 1])\n",
    "            tfl.summary_proto = tf.Summary()\n",
    "            print(tfl.summary_proto.value)\n",
    "            #summary_str = sess.run(summary_op, feed_dict=feed_dict)\n",
    "            #summary_d = summary_dict(summary_str, tfl.summary_proto)\n"
   ]
  },
  {
   "cell_type": "code",
   "execution_count": null,
   "metadata": {
    "collapsed": false
   },
   "outputs": [],
   "source": [
    "tfl.summary_proto.DESCRIPTOR.fields"
   ]
  },
  {
   "cell_type": "code",
   "execution_count": null,
   "metadata": {
    "collapsed": false
   },
   "outputs": [],
   "source": [
    "ts, r2s = list(zip( *tfl.r2_progress ))\n",
    "plt.plot(ts, r2s)\n",
    "plt.xlabel(\"epoch\")\n",
    "plt.ylabel(\"R^2\")\n",
    "plt.ylim([0, 0.1* np.ceil(10*max(r2s))])\n",
    "pass"
   ]
  },
  {
   "cell_type": "code",
   "execution_count": null,
   "metadata": {
    "collapsed": true
   },
   "outputs": [],
   "source": [
    "test_X, test_Y = X3[trainsamples:], y[trainsamples:].as_matrix()"
   ]
  },
  {
   "cell_type": "code",
   "execution_count": null,
   "metadata": {
    "collapsed": false
   },
   "outputs": [],
   "source": [
    "tfl = tflasso(checkpoint_dir = \"./cubiclasso/\", dropout = False)\n",
    "tfl.transform( test_X, test_Y, load = True)\n",
    "\n",
    "print( tfl.loss )\n",
    "r2 = 1- tfl.loss/test_Y.var()\n",
    "r2"
   ]
  },
  {
   "cell_type": "code",
   "execution_count": null,
   "metadata": {
    "collapsed": false
   },
   "outputs": [],
   "source": [
    "pf3.powers_()"
   ]
  },
  {
   "cell_type": "code",
   "execution_count": null,
   "metadata": {
    "collapsed": false
   },
   "outputs": [],
   "source": [
    "W1 = tfl.get_params()[\"W1\"][0]\n",
    "ncoef = len(W1)\n",
    "xlabels = np.array( get_labels(pf3) )\n",
    "\n",
    "forder = np.array([len(x) for x in xlabels])\n",
    "\n",
    "\n",
    "fig, axs = plt.subplots(3,figsize = (14, 5))\n",
    "fig.subplots_adjust(hspace=.5)\n",
    "for nn in range(3):\n",
    "    valid =( forder == (nn+1))\n",
    "    print(sum(valid))\n",
    "    x_ =  np.arange(ncoef)[valid]\n",
    "    y_ = np.log10( abs(W1[valid]) )\n",
    "    axs[nn].scatter(x_, y_ )\n",
    "    axs[nn].scatter( x_[y_>-3], y_[y_>-3], 25, \"r\" )\n",
    "    #axs[nn].stem( x_[y_>-3], y_[y_>-3], markerfmt = \"ro\" )\n",
    "    if nn < 2:\n",
    "        axs[nn].set_xticks(x_ )\n",
    "        axs[nn].set_xticklabels([repr(x) for x in xlabels[valid]], rotation = 90)\n",
    "    else:\n",
    "        axs[nn].set_xticks(x_[::4] )\n",
    "        axs[nn].set_xticklabels([repr(x) for x in xlabels[valid][::4]], rotation = 90)\n",
    "pass"
   ]
  },
  {
   "cell_type": "code",
   "execution_count": null,
   "metadata": {
    "collapsed": true
   },
   "outputs": [],
   "source": [
    "plt.stem?"
   ]
  },
  {
   "cell_type": "code",
   "execution_count": null,
   "metadata": {
    "collapsed": false
   },
   "outputs": [],
   "source": [
    "W1 = tfl.get_params()[\"W1\"][0]\n",
    "print(len(W1))\n",
    "plt.stem( np.arange(len(W1)), np.log10( abs(W1)) )\n",
    "plt.stem( np.arange(len(W1))[np.log10(W1)>-3], np.log10(W1)[np.log10(W1)>-3], markerfmt = \"ro\" )"
   ]
  }
 ],
 "metadata": {
  "kernelspec": {
   "display_name": "Python 3",
   "language": "python",
   "name": "python3"
  },
  "language_info": {
   "codemirror_mode": {
    "name": "ipython",
    "version": 3
   },
   "file_extension": ".py",
   "mimetype": "text/x-python",
   "name": "python",
   "nbconvert_exporter": "python",
   "pygments_lexer": "ipython3",
   "version": "3.4.3"
  }
 },
 "nbformat": 4,
 "nbformat_minor": 0
}
