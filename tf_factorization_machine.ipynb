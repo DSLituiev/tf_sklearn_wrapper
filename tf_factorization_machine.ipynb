{
 "cells": [
  {
   "cell_type": "code",
   "execution_count": 250,
   "metadata": {
    "collapsed": true
   },
   "outputs": [],
   "source": [
    "import sys\n",
    "import pandas as pd\n",
    "import numpy  as np\n",
    "import tensorflow as tf\n",
    "import matplotlib.pyplot as plt\n",
    "from tqdm import tqdm\n",
    "%matplotlib inline"
   ]
  },
  {
   "cell_type": "code",
   "execution_count": 251,
   "metadata": {
    "collapsed": false
   },
   "outputs": [
    {
     "name": "stdout",
     "output_type": "stream",
     "text": [
      "The autoreload extension is already loaded. To reload it, use:\n",
      "  %reload_ext autoreload\n"
     ]
    }
   ],
   "source": [
    "%load_ext autoreload\n",
    "%autoreload 2"
   ]
  },
  {
   "cell_type": "markdown",
   "metadata": {},
   "source": [
    "$$ \\sum_i \\sum_j x_{in} \\, x_{jn} \\sum_f \\, V_{fi} \\, V_{fj}   $$\n",
    "$$ \\sum_i \\sum_j x_{in} \\, x_{jn} \\, M_{ij}   $$"
   ]
  },
  {
   "cell_type": "code",
   "execution_count": 252,
   "metadata": {
    "collapsed": false
   },
   "outputs": [],
   "source": [
    "from tflearn import tflearn, vardict\n",
    "\n",
    "class tffactmachine(tflearn):\n",
    "    def _create_network(self):\n",
    "        \n",
    "        self.vars = vardict()\n",
    "        self.vars[\"x\"] = tf.placeholder(\"float\", shape=[None, self.xlen])\n",
    "        self.vars[\"y\"] = tf.placeholder(\"float\", shape=[None, 1])\n",
    "                    \n",
    "        # Create Model        \n",
    "        with tf.variable_scope('fm') as scope:\n",
    "            \n",
    "            self.parameters[\"bias\"] = tf.Variable(tf.constant(0.1, shape=[1, 1]), name=\"bias\")\n",
    "            self.parameters[\"weights\"] = tf.Variable(tf.truncated_normal([1, self.xlen], stddev=0.01), name=\"weights\")\n",
    "            self.parameters[\"veights\"] = tf.Variable( tf.random_normal([ self.xlen, self.num_factors], stddev=0.005),\n",
    "                                                      name=\"veights\")\n",
    "            \n",
    "            VVT =   np.diag(2*np.ones( self.xlen)) * \\\n",
    "                tf.matmul( self.parameters[\"veights\"], tf.transpose(self.parameters[\"veights\"]) )\n",
    "            #print(\"VVT' :\", VVT.get_shape(), file = sys.stderr)\n",
    "            x_M = tf.matmul(self.vars.x, VVT)  \n",
    "            \n",
    "            self.vars[\"term2\"] =  tf.reshape(tf.batch_matmul(\n",
    "                    tf.reshape(x_M, [-1,  1, self.xlen,] ), \n",
    "                    tf.reshape(self.vars.x, [-1, self.xlen, 1 ] ),\n",
    "                    ), [-1,1])\n",
    "            #print(\"term2 :\", self.vars[\"term2\"].get_shape(), file = sys.stderr)\n",
    "            self.vars[\"term1\"]  = tf.matmul( self.vars.x, tf.transpose(self.parameters[\"weights\"]))\n",
    "            self.vars.y_predicted = tf.nn.sigmoid(  self.parameters[\"bias\"] + self.vars.term1 + self.vars.term2 )\n",
    "            \n",
    "            \n",
    "        self.saver = tf.train.Saver()\n",
    "        return\n",
    "    \n",
    "#     def _create_loss(self):\n",
    "#         # Minimize the squared errors\n",
    "#         l2_loss = tf.reduce_mean(tf.pow( self.vars.y_predicted - self.vars.yy, 2))\n",
    "#         l2_sy = tf.scalar_summary( \"L2_loss\", l2_loss )\n",
    "#         \"Lasso penalty\"\n",
    "#         l1_penalty = tf.reduce_sum((tf.abs(tf.concat(1, [self.W1,self.b1], name = \"l1\" ) )) )\n",
    "#         l1p_sy =  tf.scalar_summary( \"L1_penalty\" , l1_penalty )\n",
    "#         \"total\"\n",
    "#         tot_loss = l2_loss + self.ALPHA * l1_penalty\n",
    "#         tot_loss_sy =  tf.scalar_summary( \"loss\" , tot_loss )\n",
    "#         \"R2\"\n",
    "#         _, y_var = tf.nn.moments(self.vars.yy, [0,1])\n",
    "#         rsq =  1 - l2_loss / y_var\n",
    "#         rsq_sy = tf.scalar_summary( \"R2\", rsq)\n",
    "#         return tot_loss"
   ]
  },
  {
   "cell_type": "code",
   "execution_count": 253,
   "metadata": {
    "collapsed": false
   },
   "outputs": [
    {
     "name": "stdout",
     "output_type": "stream",
     "text": [
      "(4, 9)\n"
     ]
    }
   ],
   "source": [
    "from sklearn.feature_extraction import DictVectorizer\n",
    "train_X = [\n",
    "    {\"user\": \"1\", \"item\": \"5\", \"age\": 19},\n",
    "    {\"user\": \"2\", \"item\": \"43\", \"age\": 33},\n",
    "    {\"user\": \"3\", \"item\": \"20\", \"age\": 55},\n",
    "    {\"user\": \"4\", \"item\": \"10\", \"age\": 20},\n",
    "]\n",
    "v = DictVectorizer()\n",
    "train_X = v.fit_transform(train_X)\n",
    "print( train_X.toarray().shape )\n",
    "\n",
    "train_Y = np.repeat(1.0, train_X.shape[0])"
   ]
  },
  {
   "cell_type": "markdown",
   "metadata": {},
   "source": [
    "## fit"
   ]
  },
  {
   "cell_type": "code",
   "execution_count": 254,
   "metadata": {
    "collapsed": false
   },
   "outputs": [
    {
     "name": "stderr",
     "output_type": "stream",
     "text": [
      "variance(y) =  0.0\n",
      "loading a session\n",
      "training epochs: 18000 ... 28000, saving each 1000' epoch\n",
      "Epoch: 18000\t\n",
      "\ttrain\tloss: 0.0000\tL2_loss: 0.0000\tR2: -inf\n",
      "Epoch: 19000\t\n",
      "\ttrain\tloss: 0.0000\tL2_loss: 0.0000\tR2: -inf\n",
      "Epoch: 20000\t\n",
      "\ttrain\tloss: 0.0000\tL2_loss: 0.0000\tR2: -inf\n",
      "Epoch: 21000\t\n",
      "\ttrain\tloss: 0.0000\tL2_loss: 0.0000\tR2: -inf\n",
      "Epoch: 22000\t\n",
      "\ttrain\tloss: 0.0000\tL2_loss: 0.0000\tR2: -inf\n",
      "Epoch: 23000\t\n",
      "\ttrain\tloss: 0.0000\tL2_loss: 0.0000\tR2: -inf\n",
      "Epoch: 24000\t\n",
      "\ttrain\tloss: 0.0000\tL2_loss: 0.0000\tR2: -inf\n",
      "Epoch: 25000\t\n",
      "\ttrain\tloss: 0.0000\tL2_loss: 0.0000\tR2: -inf\n",
      "Epoch: 26000\t\n",
      "\ttrain\tloss: 0.0000\tL2_loss: 0.0000\tR2: -inf\n",
      "Epoch: 27000\t\n",
      "\ttrain\tloss: 0.0000\tL2_loss: 0.0000\tR2: -inf\n",
      "Optimization Finished!\n",
      "_ipython_display_ not found\n",
      "_repr_javascript_ not found\n",
      "_repr_pdf_ not found\n",
      "_repr_html_ not found\n",
      "_repr_json_ not found\n",
      "_repr_png_ not found\n",
      "_repr_svg_ not found\n",
      "_repr_jpeg_ not found\n",
      "_repr_markdown_ not found\n",
      "_repr_latex_ not found\n"
     ]
    },
    {
     "data": {
      "text/plain": [
       "<__main__.tffactmachine at 0x7fb7150dc278>"
      ]
     },
     "execution_count": 254,
     "metadata": {},
     "output_type": "execute_result"
    }
   ],
   "source": [
    "tffm = tffactmachine( display_step = 1000, BATCH_SIZE = 40, dropout = 0,\n",
    "            # optimizer = tf.train.GradientDescentOptimizer,\n",
    "             learning_rate = 1e-4, checkpoint_dir = \"./factmachine/\", num_factors=10)\n",
    "tffm.fit(train_X.toarray(), train_Y, load = True, training_epochs = 10000,)"
   ]
  },
  {
   "cell_type": "code",
   "execution_count": 255,
   "metadata": {
    "collapsed": false
   },
   "outputs": [
    {
     "name": "stderr",
     "output_type": "stream",
     "text": [
      "loading a session\n"
     ]
    },
    {
     "data": {
      "text/plain": [
       "array([[ 0.99981469],\n",
       "       [ 0.99999988],\n",
       "       [ 0.91249973],\n",
       "       [ 1.        ]], dtype=float32)"
      ]
     },
     "execution_count": 255,
     "metadata": {},
     "output_type": "execute_result"
    }
   ],
   "source": [
    "test_X =v.transform([{\"user\": \"1\", \"item\": \"10\", \"age\": 24},\n",
    "                    {\"user\": \"2\", \"item\": \"43\", \"age\": 33},\n",
    "                      {\"user\": \"1\", \"item\": \"10\", \"age\": 12},\n",
    "                     {\"user\": \"1\", \"item\": \"20\", \"age\": 59}]).toarray()\n",
    "#print(test_X)\n",
    "ypredicted = tffm.predict(test_X, debug = False)\n",
    "#print(\"shape: \", ypredicted.shape)\n",
    "ypredicted"
   ]
  },
  {
   "cell_type": "code",
   "execution_count": 256,
   "metadata": {
    "collapsed": false
   },
   "outputs": [
    {
     "data": {
      "text/plain": [
       "<matplotlib.text.Text at 0x7fb719d3e630>"
      ]
     },
     "execution_count": 256,
     "metadata": {},
     "output_type": "execute_result"
    },
    {
     "data": {
      "image/png": "[encoded data removed]",
      "text/plain": [
       "<matplotlib.figure.Figure at 0x7fb719d322b0>"
      ]
     },
     "metadata": {},
     "output_type": "display_data"
    }
   ],
   "source": [
    "t_ = [x*20 for x in range(len(tffm.train_summary))]\n",
    "plt.plot( t_, [x[\"loss\"] for x in tffm.train_summary ] , \"r\")\n",
    "plt.ylim([0, 0.001* np.ceil(10*max([x[\"loss\"] for x in tffm.train_summary]))])\n",
    "plt.ylabel(\"loss\")\n",
    "plt.xlabel(\"epoch\")\n",
    "plt.title(\"learning curve\")\n",
    "#plt.savefig(\"progress.eps\")"
   ]
  },
  {
   "cell_type": "markdown",
   "metadata": {},
   "source": [
    "## visualize weights"
   ]
  },
  {
   "cell_type": "code",
   "execution_count": 257,
   "metadata": {
    "collapsed": false
   },
   "outputs": [
    {
     "name": "stderr",
     "output_type": "stream",
     "text": [
      "loading a session\n"
     ]
    },
    {
     "data": {
      "text/plain": [
       "dict_keys(['weights', 'bias', 'veights'])"
      ]
     },
     "execution_count": 257,
     "metadata": {},
     "output_type": "execute_result"
    }
   ],
   "source": [
    "params = tffm.get_params(load = True)\n",
    "params.keys()"
   ]
  },
  {
   "cell_type": "code",
   "execution_count": 258,
   "metadata": {
    "collapsed": false
   },
   "outputs": [
    {
     "data": {
      "image/png": "[encoded data removed]",
      "text/plain": [
       "<matplotlib.figure.Figure at 0x7fb717046ac8>"
      ]
     },
     "metadata": {},
     "output_type": "display_data"
    }
   ],
   "source": [
    "plt.plot(params[\"veights\"].T, \"g.-\", color = (0,1,0,0.8))\n",
    "pass"
   ]
  }
 ],
 "metadata": {
  "kernelspec": {
   "display_name": "Python 3",
   "language": "python",
   "name": "python3"
  },
  "language_info": {
   "codemirror_mode": {
    "name": "ipython",
    "version": 3
   },
   "file_extension": ".py",
   "mimetype": "text/x-python",
   "name": "python",
   "nbconvert_exporter": "python",
   "pygments_lexer": "ipython3",
   "version": "3.4.3"
  }
 },
 "nbformat": 4,
 "nbformat_minor": 0
}
